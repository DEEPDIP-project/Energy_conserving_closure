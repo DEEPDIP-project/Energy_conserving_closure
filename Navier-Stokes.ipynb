{
 "cells": [
  {
   "cell_type": "markdown",
   "id": "1584c0dd",
   "metadata": {},
   "source": [
    "# How to solve pressure poisson equation\n",
    "\n",
    "We need to solve \n",
    "\n",
    "$$\\mathbf{M}\\mathbf{V}=\\mathbf{M}\\mathbf{G}\\mathbf{p}$$\n",
    "\n",
    "for the pressure.\n",
    "Note that $\\mathbf{M}\\mathbf{G}=\\mathbf{M}^T\\mathbf{M} = \\mathbf{A}$ is circulant and symmetric. Therefore, its eigenvectors are the discrete fourier modes (due to the circulant property) with real eigenvalues $\\boldsymbol{\\lambda}$ (due to the symmetry). By writing $\\mathbf{M}\\mathbf{V} = \\mathbf{r}$ we find the pressure by solving \n",
    "\n",
    "$$\\mathbf{A}\\mathbf{p} = \\mathbf{r}.$$\n",
    "\n",
    "Using the eigendecomposition we can write $\\mathbf{A}= \\mathbf{F}^{-1}\\text{diag}(\\boldsymbol{\\lambda})\\mathbf{F}$, where $\\mathbf{F}$ is a discrete fourier transform operator and $\\mathbf{F}^{-1}=\\mathbf{F}^T$ its inverse. We obtain the eigenvalues by doing\n",
    "\n",
    "$$ \\mathbf{F}\\mathbf{A}\\mathbf{F}^{-1}\\mathbf{1} = \\underbrace{\\mathbf{F}\\mathbf{F}^{-1}}_{=\\mathbf{I}}\\text{diag}(\\boldsymbol{\\lambda})\\underbrace{\\mathbf{F}\\mathbf{F}^{-1}}_{=\\mathbf{I}}\\mathbf{1} = \\boldsymbol{\\lambda}.$$\n",
    "\n",
    "After obtaining $\\boldsymbol{\\lambda}$ this allows us to invert $\\mathbf{A}$ and obtain $\\mathbf{p}$:\n",
    "\n",
    "$$\\mathbf{A}\\mathbf{p} = \\mathbf{r} \\rightarrow   \\mathbf{F}^{-1}\\text{diag}(\\boldsymbol{\\lambda})\\mathbf{F}\\mathbf{p} = \\mathbf{r} \\rightarrow \\mathbf{p} =  \\mathbf{F}^{-1}\\text{diag}(\\boldsymbol{\\lambda})^{-1}\\mathbf{F}\\mathbf{r}.$$\n",
    "\n",
    "We can use a fast fourier transform to replace $\\mathbf{F}$."
   ]
  },
  {
   "cell_type": "code",
   "execution_count": 1,
   "id": "916655fd",
   "metadata": {},
   "outputs": [],
   "source": [
    "include(\"source.jl\")\n",
    "include(\"NS_FVM_solver.jl\")\n"
   ]
  },
  {
   "cell_type": "code",
   "execution_count": 2,
   "id": "5b67c98d",
   "metadata": {},
   "outputs": [
    {
     "ename": "LoadError",
     "evalue": "UndefVarError: `gen_mesh` not defined",
     "output_type": "error",
     "traceback": [
      "UndefVarError: `gen_mesh` not defined",
      "",
      "Stacktrace:",
      " [1] top-level scope",
      "   @ In[2]:6"
     ]
    }
   ],
   "source": [
    "x= collect(LinRange(-pi,pi,129))\n",
    "y = collect(LinRange(-pi,pi,129))\n",
    "#z = collect(LinRange(-pi,pi,257))\n",
    "\n",
    "UPC = 2\n",
    "fine_mesh = gen_mesh(x,y,UPC = UPC)\n",
    "\n",
    "# number of unknowns per cell\n",
    "\n",
    "J = (16,16) # compression in each direction\n",
    "coarse_mesh = generate_coarse_from_fine_mesh(fine_mesh,J)\n",
    "MP = gen_mesh_pair(fine_mesh,coarse_mesh)\n",
    "0\n",
    "\n"
   ]
  },
  {
   "cell_type": "code",
   "execution_count": null,
   "id": "19c76623",
   "metadata": {},
   "outputs": [],
   "source": []
  },
  {
   "cell_type": "code",
   "execution_count": 3,
   "id": "d68a782c",
   "metadata": {},
   "outputs": [
    {
     "data": {
      "text/plain": [
       "gen_setup (generic function with 1 method)"
      ]
     },
     "execution_count": 3,
     "metadata": {},
     "output_type": "execute_result"
    }
   ],
   "source": [
    "struct setup_struct\n",
    "    O\n",
    "    PS\n",
    "    GS\n",
    "    mesh\n",
    "end\n",
    "    \n",
    "function gen_setup(mesh)\n",
    "    O = gen_operators_uniform(mesh)\n",
    "    PS = gen_pressure_solver(mesh,O)\n",
    "    GS = gen_grid_swapper(mesh)\n",
    "    \n",
    "    return setup_struct(O,PS,GS,mesh)\n",
    "end"
   ]
  },
  {
   "cell_type": "code",
   "execution_count": 4,
   "id": "51c7aca4",
   "metadata": {},
   "outputs": [
    {
     "ename": "LoadError",
     "evalue": "UndefVarError: `fine_mesh` not defined",
     "output_type": "error",
     "traceback": [
      "UndefVarError: `fine_mesh` not defined",
      "",
      "Stacktrace:",
      " [1] top-level scope",
      "   @ In[4]:1"
     ]
    }
   ],
   "source": [
    "setup = gen_setup(fine_mesh)\n",
    "0"
   ]
  },
  {
   "cell_type": "markdown",
   "id": "4c5bda02",
   "metadata": {},
   "source": [
    "# Define RHS of kolmogorov flow"
   ]
  },
  {
   "cell_type": "code",
   "execution_count": 5,
   "id": "283514ec",
   "metadata": {},
   "outputs": [
    {
     "ename": "LoadError",
     "evalue": "UndefVarError: `fine_mesh` not defined",
     "output_type": "error",
     "traceback": [
      "UndefVarError: `fine_mesh` not defined",
      "",
      "Stacktrace:",
      " [1] top-level scope",
      "   @ In[5]:3"
     ]
    }
   ],
   "source": [
    "forcing(x) = sin.(4*x[2])\n",
    "\n",
    "F = fine_mesh.eval_function(forcing)\n",
    "F = cat(F,zeros(size(F)),dims = fine_mesh.dims + 1)\n",
    "\n",
    "\n",
    "\n",
    "function gen_kolmogorov_flow(setup,F;Re = 1000)\n",
    "    \n",
    "    \n",
    "    function rhs(V,mesh,t;Re = Re,O=setup.O,PS = setup.PS,F = padding(F,(1,1),circular = true),solve_pressure = true,other_arguments = 0)\n",
    "\n",
    "        dims = mesh.dims\n",
    "\n",
    "        pad_V = padding(V,Tuple((3 for i in 1:dims)),circular = true)\n",
    "\n",
    "\n",
    "\n",
    "        CV = O.C(pad_V)\n",
    "\n",
    "\n",
    "        DV = (1/Re) .* O.D(pad_V[[(2:end-1) for i in 1:dims]...,:,:])\n",
    "\n",
    "        rhs = -CV + DV\n",
    "\n",
    "        #### kolmogorov flow ###\n",
    "        \n",
    "        rhs += F .- 0.1*pad_V[[(3:end-2) for i in 1:dims]...,:,:]\n",
    "\n",
    "        ########################\n",
    "       \n",
    "        if solve_pressure \n",
    "            r = O.M(rhs)\n",
    "            p = PS(r)\n",
    "            return rhs[[(2:end-1) for i in 1:dims]...,:,:] - O.G(padding(p,Tuple((1 for i in 1:dims)),circular = true))\n",
    "        else\n",
    "            return rhs[[(2:end-1) for i in 1:dims]...,:,:] \n",
    "        end\n",
    "        \n",
    "    end\n",
    "        \n",
    "    return rhs\n",
    "end"
   ]
  },
  {
   "cell_type": "markdown",
   "id": "b672621f",
   "metadata": {},
   "source": [
    "# Generate divergence free initial condition"
   ]
  },
  {
   "cell_type": "code",
   "execution_count": null,
   "id": "cd48e4cc",
   "metadata": {},
   "outputs": [],
   "source": []
  },
  {
   "cell_type": "code",
   "execution_count": 6,
   "id": "57d7a0b7",
   "metadata": {},
   "outputs": [
    {
     "ename": "LoadError",
     "evalue": "UndefVarError: `fine_mesh` not defined",
     "output_type": "error",
     "traceback": [
      "UndefVarError: `fine_mesh` not defined",
      "",
      "Stacktrace:",
      " [1] top-level scope",
      "   @ In[6]:5"
     ]
    }
   ],
   "source": [
    "max_k = 10\n",
    "energy_norm = 1\n",
    "number_of_simulations = 1\n",
    "\n",
    "setup = gen_setup(fine_mesh)\n",
    "KF_rhs = gen_kolmogorov_flow(setup,F)\n",
    "\n",
    "V = generate_random_field(fine_mesh.N,max_k,norm = energy_norm,samples = (fine_mesh.UPC,number_of_simulations))\n",
    "\n",
    "\n",
    "    \n",
    "MV = setup.O.M(padding(V,(1,1),circular = true))\n",
    "\n",
    "\n",
    "\n",
    "p = setup.PS(MV)\n",
    "\n",
    "Gp = setup.O.G(padding(p,(1,1),circular =true))\n",
    "\n",
    "V0 = V-Gp\n",
    "\n",
    "heatmap(setup.O.M(V0)[:,:,1,1])\n"
   ]
  },
  {
   "cell_type": "markdown",
   "id": "d09196a3",
   "metadata": {},
   "source": [
    "# Warm-up"
   ]
  },
  {
   "cell_type": "code",
   "execution_count": 7,
   "id": "44a7be08",
   "metadata": {
    "scrolled": true
   },
   "outputs": [
    {
     "ename": "LoadError",
     "evalue": "UndefVarError: `simulate` not defined",
     "output_type": "error",
     "traceback": [
      "UndefVarError: `simulate` not defined",
      "",
      "Stacktrace:",
      " [1] top-level scope",
      "   @ In[7]:8"
     ]
    }
   ],
   "source": [
    "t_start = 0\n",
    "t_end = 10\n",
    "dt = 0.02\n",
    "save_every = 50\n",
    "pre_allocate = true\n",
    "\n",
    "\n",
    "t_data,w_up_sim_data = simulate(V0,fine_mesh,dt,t_start,t_end,KF_rhs,time_step,save_every = save_every,pre_allocate = pre_allocate) \n",
    "0\n"
   ]
  },
  {
   "cell_type": "code",
   "execution_count": 8,
   "id": "7cbca888",
   "metadata": {},
   "outputs": [
    {
     "ename": "LoadError",
     "evalue": "UndefVarError: `w_up_sim_data` not defined",
     "output_type": "error",
     "traceback": [
      "UndefVarError: `w_up_sim_data` not defined",
      ""
     ]
    }
   ],
   "source": [
    "w_up_sim_data"
   ]
  },
  {
   "cell_type": "code",
   "execution_count": 9,
   "id": "aba95fb0",
   "metadata": {},
   "outputs": [
    {
     "ename": "LoadError",
     "evalue": "UndefVarError: `Plots` not defined",
     "output_type": "error",
     "traceback": [
      "UndefVarError: `Plots` not defined",
      "",
      "Stacktrace:",
      " [1] top-level scope",
      "   @ In[9]:1"
     ]
    }
   ],
   "source": [
    "Plots.plot(fine_mesh.ip(w_up_sim_data,w_up_sim_data)[1:end])"
   ]
  },
  {
   "cell_type": "markdown",
   "id": "d6bca13b",
   "metadata": {},
   "source": [
    "# True sim"
   ]
  },
  {
   "cell_type": "code",
   "execution_count": 10,
   "id": "13768d16",
   "metadata": {
    "scrolled": true
   },
   "outputs": [
    {
     "ename": "LoadError",
     "evalue": "UndefVarError: `w_up_sim_data` not defined",
     "output_type": "error",
     "traceback": [
      "UndefVarError: `w_up_sim_data` not defined",
      "",
      "Stacktrace:",
      " [1] top-level scope",
      "   @ In[10]:8"
     ]
    }
   ],
   "source": [
    "t_start = 0\n",
    "t_end = 50\n",
    "dt = 0.02\n",
    "save_every = 5\n",
    "pre_allocate = true\n",
    "\n",
    "\n",
    "t_data,sim_data = simulate(w_up_sim_data[:,:,:,:,end],fine_mesh,dt,t_start,t_end,KF_rhs,time_step,save_every = save_every,pre_allocate = pre_allocate) \n",
    "0\n",
    "data = reshape(sim_data,(size(sim_data)[1:end-2]...,size(sim_data)[end]*size(sim_data)[end-1]))\n"
   ]
  },
  {
   "cell_type": "code",
   "execution_count": 11,
   "id": "bcb88134",
   "metadata": {},
   "outputs": [
    {
     "ename": "LoadError",
     "evalue": "UndefVarError: `Plots` not defined",
     "output_type": "error",
     "traceback": [
      "UndefVarError: `Plots` not defined",
      "",
      "Stacktrace:",
      " [1] top-level scope",
      "   @ In[11]:1"
     ]
    }
   ],
   "source": [
    "Plots.plot(fine_mesh.ip(sim_data[:,:,:,1,:],sim_data[:,:,:,1,:])[1:end])"
   ]
  },
  {
   "cell_type": "code",
   "execution_count": null,
   "id": "eec04604",
   "metadata": {},
   "outputs": [],
   "source": []
  },
  {
   "cell_type": "code",
   "execution_count": 12,
   "id": "54ae02ee",
   "metadata": {},
   "outputs": [
    {
     "ename": "LoadError",
     "evalue": "UndefVarError: `setup` not defined",
     "output_type": "error",
     "traceback": [
      "UndefVarError: `setup` not defined",
      "",
      "Stacktrace:",
      " [1] top-level scope",
      "   @ In[12]:1"
     ]
    }
   ],
   "source": [
    "to_plot = setup.O.w(sim_data[:,:,:,1,:])[:,:,1,:]\n",
    "\n",
    "ymin = minimum(to_plot)\n",
    "ymax = maximum(to_plot)\n",
    "\n",
    "\n",
    "anim = @animate for index in 1:size(to_plot)[3]\n",
    "    Plots.heatmap(to_plot[:,:,index]',color = :brg,clim = (ymin,ymax),yflip=false,xtickfontsize = 10,ytickfontsize = 10\n",
    "    ,aspect_ratio = :equal,titlefontsize=16,yguidefontsize=18,xguidefontsize=18,title = \"Simplified ocean model\",right_margin = 35Plots.mm)\n",
    "    Plots.xlabel!(L\"x\")\n",
    "    Plots.ylabel!(L\"y\")\n",
    "    #title!(L\"t = \" * string(round(example_t[index],digits = 1)))\n",
    "end\n",
    "\n",
    "gif(anim, \"DNS_flow.gif\", fps = 30)"
   ]
  },
  {
   "cell_type": "code",
   "execution_count": null,
   "id": "7923bda7",
   "metadata": {},
   "outputs": [],
   "source": []
  },
  {
   "cell_type": "markdown",
   "id": "ba7054b8",
   "metadata": {},
   "source": [
    "# Generate local POD model"
   ]
  },
  {
   "cell_type": "code",
   "execution_count": 13,
   "id": "1ec8f26c",
   "metadata": {},
   "outputs": [
    {
     "ename": "LoadError",
     "evalue": "UndefVarError: `MP` not defined",
     "output_type": "error",
     "traceback": [
      "UndefVarError: `MP` not defined",
      "",
      "Stacktrace:",
      " [1] top-level scope",
      "   @ In[13]:4"
     ]
    }
   ],
   "source": [
    "conserve_momentum = true\n",
    "### momentum conserving correction of data set\n",
    "\n",
    "data_hat = sqrt.(MP.omega_tilde) .* setup.GS.A_s_c(data)\n",
    "reshape_for_local_SVD(data_hat,MP)\n",
    "\n",
    "POD_modes,S = carry_out_local_SVD(data_hat,MP,subtract_average = conserve_momentum)\n",
    "\n",
    "0"
   ]
  },
  {
   "cell_type": "code",
   "execution_count": 14,
   "id": "02de12f4",
   "metadata": {},
   "outputs": [
    {
     "ename": "LoadError",
     "evalue": "UndefVarError: `Plots` not defined",
     "output_type": "error",
     "traceback": [
      "UndefVarError: `Plots` not defined",
      "",
      "Stacktrace:",
      " [1] top-level scope",
      "   @ In[14]:1"
     ]
    }
   ],
   "source": [
    "Plots.plot(S,marker = true,yscale = :log)\n",
    "hline!([0.01])"
   ]
  },
  {
   "cell_type": "code",
   "execution_count": 15,
   "id": "4e529e65",
   "metadata": {},
   "outputs": [
    {
     "ename": "LoadError",
     "evalue": "UndefVarError: `fine_mesh` not defined",
     "output_type": "error",
     "traceback": [
      "UndefVarError: `fine_mesh` not defined",
      "",
      "Stacktrace:",
      " [1] top-level scope",
      "   @ In[15]:6"
     ]
    }
   ],
   "source": [
    "r =30 #how many modes to include, including u_bar\n",
    "uniform = true\n",
    "\n",
    "if conserve_momentum \n",
    "    if r >= UPC + 1\n",
    "        global_POD_modes = local_to_global_modes(POD_modes[[(:) for i in 1:fine_mesh.dims]...,:,1:(r-UPC)],MP)\n",
    "\n",
    "    else\n",
    "        global_POD_modes = 0\n",
    "    end\n",
    "\n",
    "    global_POD_modes = add_filter_to_modes(global_POD_modes,MP,orthogonalize = !uniform)\n",
    "\n",
    "else\n",
    "    global_POD_modes = local_to_global_modes(POD_modes[[(:) for i in 1:fine_mesh.dims]...,:,1:r],MP)\n",
    "end\n",
    "\n",
    "PO = gen_projection_operators(global_POD_modes,MP,uniform =uniform)\n",
    "\n"
   ]
  },
  {
   "cell_type": "code",
   "execution_count": null,
   "id": "120622c5",
   "metadata": {},
   "outputs": [],
   "source": []
  },
  {
   "cell_type": "code",
   "execution_count": 16,
   "id": "ae9385c2",
   "metadata": {},
   "outputs": [
    {
     "data": {
      "text/plain": [
       "true_R (generic function with 1 method)"
      ]
     },
     "execution_count": 16,
     "metadata": {},
     "output_type": "execute_result"
    }
   ],
   "source": [
    "function true_W(u,setup,setup_bar,PO)\n",
    "    \n",
    "    UPC = setup.mesh.UPC\n",
    "    dims = setup.mesh.dims\n",
    "\n",
    "    \n",
    "    a = PO.W(setup.GS.A_s_c(u))\n",
    "    \n",
    "    u_bar_c = a[[(:) for i in 1:dims]...,1:UPC,:]\n",
    "\n",
    "    u_bar_s = setup_bar.GS.A_c_s(u_bar_c)\n",
    "    \n",
    "    r = setup_bar.O.M(padding(u_bar_s,Tuple((1 for i in 1:dims)),circular = true))\n",
    "    p = setup_bar.PS(r)\n",
    "    \n",
    "    Gp = setup_bar.O.G(padding(p,Tuple((1 for i in 1:dims)),circular = true))\n",
    "    \n",
    "    u_bar_s -= Gp\n",
    "    \n",
    "    return cat(u_bar_s,a[[(:) for i in 1:dims]...,UPC+1:end,:],dims = dims+1)\n",
    "end\n",
    "\n",
    "function true_R(a,setup,setup_bar,PO)\n",
    "    \n",
    "    UPC = setup.mesh.UPC\n",
    "    dims = setup.mesh.dims\n",
    "    \n",
    "    u_bar_s = a[[(:) for i in 1:dims]...,1:UPC,:]\n",
    "    \n",
    "    u_bar_s = setup_bar.GS.A_s_c(u_bar_s)\n",
    "    \n",
    "    u_r = setup.GS.A_c_s(PO.R(cat(u_bar_s,a[[(:) for i in 1:dims]...,UPC+1:end,:],dims = dims+1)))\n",
    "    \n",
    "    r = setup.O.M(padding(u_r,Tuple((1 for i in 1:dims)),circular = true))\n",
    "    p = setup.PS(r)\n",
    "\n",
    "    Gp = setup.O.G(padding(p,Tuple((1 for i in 1:dims)),circular = true))\n",
    "    \n",
    "    u_r -= Gp\n",
    "    \n",
    "    \n",
    "    return u_r\n",
    "end\n"
   ]
  },
  {
   "cell_type": "code",
   "execution_count": null,
   "id": "f465098e",
   "metadata": {},
   "outputs": [],
   "source": []
  },
  {
   "cell_type": "code",
   "execution_count": null,
   "id": "e96a7114",
   "metadata": {},
   "outputs": [],
   "source": []
  },
  {
   "cell_type": "markdown",
   "id": "ede8c645",
   "metadata": {},
   "source": [
    "# True filter"
   ]
  },
  {
   "cell_type": "code",
   "execution_count": 17,
   "id": "e3c83d1f",
   "metadata": {
    "scrolled": false
   },
   "outputs": [
    {
     "ename": "LoadError",
     "evalue": "UndefVarError: `coarse_mesh` not defined",
     "output_type": "error",
     "traceback": [
      "UndefVarError: `coarse_mesh` not defined",
      "",
      "Stacktrace:",
      " [1] top-level scope",
      "   @ In[17]:2"
     ]
    }
   ],
   "source": [
    "\n",
    "setup_bar = gen_setup(coarse_mesh)\n",
    "\n",
    "W(u,setup = setup,setup_bar = setup_bar,PO = PO) = true_W(u,setup,setup_bar,PO)\n",
    "R(a,setup = setup,setup_bar = setup_bar,PO = PO) = true_R(a,setup,setup_bar,PO)\n",
    "\n",
    "ref_data = W(data)\n",
    "#a_rhs = true_W(KF_rhs(data,setup.mesh,0),setup,setup_bar,PO)\n",
    "F_a = W(F)\n",
    "rhs_bar = gen_kolmogorov_flow(setup_bar,F_a[:,:,1:2,:];Re = 1000)\n",
    "0\n",
    "\n"
   ]
  },
  {
   "cell_type": "code",
   "execution_count": 18,
   "id": "4d793190",
   "metadata": {},
   "outputs": [
    {
     "ename": "LoadError",
     "evalue": "UndefVarError: `fine_mesh` not defined",
     "output_type": "error",
     "traceback": [
      "UndefVarError: `fine_mesh` not defined",
      "",
      "Stacktrace:",
      " [1] top-level scope",
      "   @ In[18]:1"
     ]
    }
   ],
   "source": [
    "scatter(fine_mesh.ip(data,data)[1:end],coarse_mesh.ip(ref_data,ref_data)[1:end])"
   ]
  },
  {
   "cell_type": "code",
   "execution_count": 19,
   "id": "18490a97",
   "metadata": {},
   "outputs": [
    {
     "ename": "LoadError",
     "evalue": "UndefVarError: `coarse_mesh` not defined",
     "output_type": "error",
     "traceback": [
      "UndefVarError: `coarse_mesh` not defined",
      "",
      "Stacktrace:",
      " [1] top-level scope",
      "   @ In[19]:13"
     ]
    }
   ],
   "source": [
    "kernel_sizes = [(1,1),(1,1)]\n",
    "channels = [r+2,30] # r+2 as the first channels are the coarse rhs\n",
    "strides = [(1,1),(1,1)]\n",
    "B = (1,1)\n",
    "boundary_padding = \"c\" #[[\"c\",\"c\"];;[0,0]]\n",
    "\n",
    "\n",
    "constrain_energy =true\n",
    "dissipation = true\n",
    "conserve_momentum =true\n",
    "\n",
    "\n",
    "model = gen_skew_NN(kernel_sizes,channels,strides,r,B,boundary_padding = boundary_padding,UPC = coarse_mesh.UPC,constrain_energy = constrain_energy,dissipation = dissipation,conserve_momentum = conserve_momentum)"
   ]
  },
  {
   "cell_type": "code",
   "execution_count": 20,
   "id": "32676e74",
   "metadata": {},
   "outputs": [
    {
     "data": {
      "text/plain": [
       "neural_rhs (generic function with 6 methods)"
      ]
     },
     "execution_count": 20,
     "metadata": {},
     "output_type": "execute_result"
    }
   ],
   "source": [
    "function neural_rhs(a,mesh,t,rhs = rhs_bar,setup = setup_bar,model = model,F = F_a,B=B;other_arguments = 0)\n",
    "    \n",
    "    \n",
    "    dims = mesh.dims\n",
    "    \n",
    "    u_s = a[:,:,1:2,:]\n",
    "    \n",
    "    RHS = rhs(u_s,mesh,t,solve_pressure = false)\n",
    "    \n",
    "    RHS_c = setup.GS.A_s_c(RHS)\n",
    "    u_c = setup.GS.A_s_c(u_s)\n",
    "    \n",
    "    a_c = cat(u_c,a[:,:,3:end,:],dims = dims+1)\n",
    "    \n",
    "    input = cat(RHS_c,a,dims = dims +1)  \n",
    "\n",
    "    nn_output = model.eval(input,a = padding(a_c,((2*[B...])...,),circular = true))\n",
    "    \n",
    "    nn_output = cat(setup.GS.A_c_s(nn_output[:,:,1:2,:]),nn_output[:,:,3:end,:],dims = dims+1)\n",
    "    ### find pressure based on NN_output\n",
    "    #+ nn_output[:,:,1:2,:]\n",
    "    r = setup.O.M(padding(RHS + nn_output[:,:,1:2,:] ,(1,1),circular = true))\n",
    "    \n",
    "    p = setup.PS(r)\n",
    "    \n",
    "    Gp = setup.O.G(padding(p,(1,1),circular = true))\n",
    "     \n",
    "    ####################################\n",
    "\n",
    "    physics_rhs = cat( RHS -Gp , - 0.1 * a[:,:,3:end,:] .+ F[:,:,3:end,:] ,dims = dims +1) # from kolmogorov flow\n",
    "\n",
    "    return nn_output +   physics_rhs\n",
    "    \n",
    "    \n",
    "end"
   ]
  },
  {
   "cell_type": "code",
   "execution_count": 21,
   "id": "79881d60",
   "metadata": {},
   "outputs": [
    {
     "data": {
      "text/plain": [
       "galerkin_rhs (generic function with 5 methods)"
      ]
     },
     "execution_count": 21,
     "metadata": {},
     "output_type": "execute_result"
    }
   ],
   "source": [
    "function galerkin_rhs(a,mesh,t,setup = setup,W=W,R = R,rhs = KF_rhs;other_arguments = 0)\n",
    "    V = R(a)\n",
    "    dadt = W(rhs(V,setup.mesh,t))\n",
    "    return dadt\n",
    "end"
   ]
  },
  {
   "cell_type": "code",
   "execution_count": 22,
   "id": "5f94d295",
   "metadata": {},
   "outputs": [
    {
     "ename": "LoadError",
     "evalue": "UndefVarError: `ref_data` not defined",
     "output_type": "error",
     "traceback": [
      "UndefVarError: `ref_data` not defined",
      "",
      "Stacktrace:",
      " [1] top-level scope",
      "   @ In[22]:1"
     ]
    }
   ],
   "source": [
    "galerkin_rhs(ref_data,coarse_mesh,0)"
   ]
  },
  {
   "cell_type": "code",
   "execution_count": null,
   "id": "866ccd93",
   "metadata": {},
   "outputs": [],
   "source": []
  },
  {
   "cell_type": "markdown",
   "id": "febacc79",
   "metadata": {},
   "source": [
    "# Trajectory fitting"
   ]
  },
  {
   "cell_type": "code",
   "execution_count": 23,
   "id": "45f4e91b",
   "metadata": {},
   "outputs": [
    {
     "ename": "LoadError",
     "evalue": "UndefVarError: `sim_data` not defined",
     "output_type": "error",
     "traceback": [
      "UndefVarError: `sim_data` not defined",
      "",
      "Stacktrace:",
      " [1] top-level scope",
      "   @ In[23]:1"
     ]
    }
   ],
   "source": [
    "simulation_indexes = collect(1:size(sim_data)[end-1])'\n",
    "simulation_indexes = cat([simulation_indexes for i in 1:size(sim_data)[end]]...,dims = fine_mesh.dims + 2)\n",
    "simulation_indexes = simulation_indexes[1:end]\n",
    "simulation_times = t_data[1:end]\n",
    "\n",
    "ref_data_trajectory = reshape(ref_data,(size(ref_data)[1:coarse_mesh.dims+1]...,size(sim_data)[end-1],size(sim_data)[end]))\n",
    "        \n",
    "\n",
    "sim_interpolator = gen_time_interpolator(t_data,ref_data_trajectory)\n",
    "\n",
    "\n",
    "\n"
   ]
  },
  {
   "cell_type": "code",
   "execution_count": 24,
   "id": "4f9f8121",
   "metadata": {},
   "outputs": [
    {
     "ename": "LoadError",
     "evalue": "UndefVarError: `simulation_times` not defined",
     "output_type": "error",
     "traceback": [
      "UndefVarError: `simulation_times` not defined",
      "",
      "Stacktrace:",
      " [1] top-level scope",
      "   @ In[24]:3"
     ]
    }
   ],
   "source": [
    "# remove data that lies at the end of the simulation\n",
    "buffer_dt = 0.6\n",
    "select = buffer_dt .< maximum(simulation_times) .- simulation_times\n",
    "\n",
    "traj_data = ref_data[[(:) for i in 1:coarse_mesh.dims+1]...,select]\n",
    "traj_indexes = simulation_indexes[select]\n",
    "traj_times = simulation_times[select]"
   ]
  },
  {
   "cell_type": "code",
   "execution_count": 25,
   "id": "f0296aea",
   "metadata": {},
   "outputs": [
    {
     "data": {
      "text/plain": [
       "trajectory_fitting_loss (generic function with 6 methods)"
      ]
     },
     "execution_count": 25,
     "metadata": {},
     "output_type": "execute_result"
    }
   ],
   "source": [
    "traj_dt = 0.1\n",
    "traj_steps = 5\n",
    "\n",
    "function trajectory_fitting_loss(input,indexes,times,dt = traj_dt,steps = traj_steps,sim_interpolator = sim_interpolator,neural_rhs = neural_rhs,coarse_mesh = coarse_mesh)\n",
    "    dims = length(size(input)) - 2\n",
    "    \n",
    "    t_start = reshape(times,([1 for i in 1:dims+1]...,size(times)[1]))\n",
    "    t_end =  t_start .+ steps *dt\n",
    "    t,result = simulate(input,coarse_mesh,dt,t_start,t_end,neural_rhs,time_step,save_every = 1,pre_allocate = false) \n",
    "    reference = stop_gradient() do\n",
    "        sim_interpolator(t,simulation_indexes = indexes)\n",
    "    end\n",
    "    return Flux.Losses.mse(result,reference)\n",
    "end    \n",
    "    \n",
    "    \n",
    "    \n",
    "    "
   ]
  },
  {
   "cell_type": "code",
   "execution_count": 26,
   "id": "4369ae30",
   "metadata": {},
   "outputs": [
    {
     "ename": "LoadError",
     "evalue": "UndefVarError: `Flux` not defined",
     "output_type": "error",
     "traceback": [
      "UndefVarError: `Flux` not defined",
      "",
      "Stacktrace:",
      " [1] top-level scope",
      "   @ In[26]:2"
     ]
    }
   ],
   "source": [
    "batchsize = 5\n",
    "trajectory_fitting_data_loader = Flux.Data.DataLoader((traj_data,traj_indexes,traj_times), batchsize=batchsize,shuffle=true)"
   ]
  },
  {
   "cell_type": "code",
   "execution_count": 27,
   "id": "35101f82",
   "metadata": {},
   "outputs": [
    {
     "ename": "LoadError",
     "evalue": "UndefVarError: `traj_indexes` not defined",
     "output_type": "error",
     "traceback": [
      "UndefVarError: `traj_indexes` not defined",
      "",
      "Stacktrace:",
      " [1] top-level scope",
      "   @ In[27]:1"
     ]
    }
   ],
   "source": [
    "select = rand(collect(1:prod(size(traj_indexes))),(50))\n",
    "sqrt.(trajectory_fitting_loss(traj_data[:,:,:,select],traj_indexes[select],traj_times[select]))"
   ]
  },
  {
   "cell_type": "code",
   "execution_count": 28,
   "id": "6f2c882f",
   "metadata": {},
   "outputs": [
    {
     "ename": "LoadError",
     "evalue": "UndefVarError: `ADAM` not defined",
     "output_type": "error",
     "traceback": [
      "UndefVarError: `ADAM` not defined",
      "",
      "Stacktrace:",
      " [1] top-level scope",
      "   @ In[28]:1"
     ]
    }
   ],
   "source": [
    "opt = ADAM()"
   ]
  },
  {
   "cell_type": "code",
   "execution_count": 29,
   "id": "1f707e8c",
   "metadata": {},
   "outputs": [
    {
     "ename": "LoadError",
     "evalue": "UndefVarError: `Flux` not defined",
     "output_type": "error",
     "traceback": [
      "UndefVarError: `Flux` not defined",
      "",
      "Stacktrace:",
      " [1] top-level scope",
      "   @ In[29]:1"
     ]
    }
   ],
   "source": [
    "ps = Flux.params(model.CNN,model.B_mats...)\n",
    "epochs = 90\n",
    "losses = zeros(epochs)\n",
    "for epoch in tqdm(1:epochs)\n",
    "    Flux.train!(trajectory_fitting_loss,ps, trajectory_fitting_data_loader, opt)\n",
    "    train_loss = trajectory_fitting_loss(traj_data[:,:,:,select],traj_indexes[select],traj_times[select])\n",
    "    losses[epoch] = train_loss\n",
    "end"
   ]
  },
  {
   "cell_type": "code",
   "execution_count": 30,
   "id": "c9f17cea",
   "metadata": {},
   "outputs": [
    {
     "ename": "LoadError",
     "evalue": "UndefVarError: `losses` not defined",
     "output_type": "error",
     "traceback": [
      "UndefVarError: `losses` not defined",
      "",
      "Stacktrace:",
      " [1] top-level scope",
      "   @ In[30]:1"
     ]
    }
   ],
   "source": [
    "plot(sqrt.(losses))"
   ]
  },
  {
   "cell_type": "code",
   "execution_count": null,
   "id": "2bbc6da0",
   "metadata": {},
   "outputs": [],
   "source": []
  },
  {
   "cell_type": "code",
   "execution_count": null,
   "id": "406f25dd",
   "metadata": {},
   "outputs": [],
   "source": []
  },
  {
   "cell_type": "code",
   "execution_count": 31,
   "id": "d96e91fc",
   "metadata": {},
   "outputs": [
    {
     "ename": "LoadError",
     "evalue": "UndefVarError: `w_up_sim_data` not defined",
     "output_type": "error",
     "traceback": [
      "UndefVarError: `w_up_sim_data` not defined",
      "",
      "Stacktrace:",
      " [1] top-level scope",
      "   @ In[31]:6"
     ]
    }
   ],
   "source": [
    "t_start = 0\n",
    "t_end = 20\n",
    "dt = 0.1\n",
    "save_every = 1\n",
    "pre_allocate = true\n",
    "init_cond = true_W(w_up_sim_data[:,:,:,1,end:end],setup,setup_bar,PO)\n",
    "\n",
    "t,pred_sim = simulate(init_cond,coarse_mesh,dt,t_start,t_end,neural_rhs,time_step,save_every = save_every,pre_allocate = pre_allocate) \n",
    "t_pred = t[1:end]\n",
    "pred_sim = pred_sim[:,:,:,1,:]\n",
    "\n"
   ]
  },
  {
   "cell_type": "code",
   "execution_count": 32,
   "id": "fbcb2959",
   "metadata": {},
   "outputs": [
    {
     "ename": "LoadError",
     "evalue": "UndefVarError: `Plots` not defined",
     "output_type": "error",
     "traceback": [
      "UndefVarError: `Plots` not defined",
      "",
      "Stacktrace:",
      " [1] top-level scope",
      "   @ In[32]:1"
     ]
    }
   ],
   "source": [
    "Plots.plot(fine_mesh.ip(sim_data[:,:,:,1,:],sim_data[:,:,:,1,:])[1:end])"
   ]
  },
  {
   "cell_type": "code",
   "execution_count": 33,
   "id": "b3d5c276",
   "metadata": {},
   "outputs": [
    {
     "ename": "LoadError",
     "evalue": "UndefVarError: `coarse_mesh` not defined",
     "output_type": "error",
     "traceback": [
      "UndefVarError: `coarse_mesh` not defined",
      "",
      "Stacktrace:",
      " [1] top-level scope",
      "   @ In[33]:1"
     ]
    }
   ],
   "source": [
    "plot(coarse_mesh.ip(pred_sim,pred_sim)[1:end])\n",
    "plot!(coarse_mesh.ip(W(sim_data[:,:,:,1,:]),W(sim_data[:,:,:,1,:]))[1:end])"
   ]
  },
  {
   "cell_type": "code",
   "execution_count": null,
   "id": "7491d07a",
   "metadata": {},
   "outputs": [],
   "source": []
  },
  {
   "cell_type": "code",
   "execution_count": 34,
   "id": "b891db77",
   "metadata": {},
   "outputs": [
    {
     "ename": "LoadError",
     "evalue": "UndefVarError: `setup` not defined",
     "output_type": "error",
     "traceback": [
      "UndefVarError: `setup` not defined",
      "",
      "Stacktrace:",
      " [1] top-level scope",
      "   @ In[34]:1"
     ]
    }
   ],
   "source": [
    "to_plot = setup.O.w(R(pred_sim))[:,:,1,:]\n",
    "#to_plot = setup_bar.O.w(pred_sim[:,:,1:2,:])[:,:,1,:]\n",
    "\n",
    "\n",
    "ymin = minimum(to_plot)\n",
    "ymax = maximum(to_plot)\n",
    "\n",
    "\n",
    "anim = @animate for index in 1:size(to_plot)[3]\n",
    "    Plots.heatmap(to_plot[:,:,index]',color = :brg,clim = (ymin,ymax),yflip=false,xtickfontsize = 10,ytickfontsize = 10\n",
    "    ,aspect_ratio = :equal,titlefontsize=16,yguidefontsize=18,xguidefontsize=18,title = \"Simplified ocean model\",right_margin = 35Plots.mm)\n",
    "    Plots.xlabel!(L\"x\")\n",
    "    Plots.ylabel!(L\"y\")\n",
    "    #title!(L\"t = \" * string(round(example_t[index],digits = 1)))\n",
    "end\n",
    "\n",
    "gif(anim, \"DNS_flow.gif\", fps = 30)"
   ]
  },
  {
   "cell_type": "code",
   "execution_count": 35,
   "id": "13e55ae8",
   "metadata": {},
   "outputs": [
    {
     "ename": "LoadError",
     "evalue": "UndefVarError: `setup` not defined",
     "output_type": "error",
     "traceback": [
      "UndefVarError: `setup` not defined",
      "",
      "Stacktrace:",
      " [1] top-level scope",
      "   @ In[35]:1"
     ]
    }
   ],
   "source": [
    "to_plot = setup.O.w(R(W(sim_data[:,:,:,1,:])))[:,:,1,:]\n",
    "\n",
    "ymin = minimum(to_plot)\n",
    "ymax = maximum(to_plot)\n",
    "\n",
    "\n",
    "anim = @animate for index in 1:size(to_plot)[3]\n",
    "    Plots.heatmap(to_plot[:,:,index]',color = :brg,clim = (ymin,ymax),yflip=false,xtickfontsize = 10,ytickfontsize = 10\n",
    "    ,aspect_ratio = :equal,titlefontsize=16,yguidefontsize=18,xguidefontsize=18,title = \"Simplified ocean model\",right_margin = 35Plots.mm)\n",
    "    Plots.xlabel!(L\"x\")\n",
    "    Plots.ylabel!(L\"y\")\n",
    "    #title!(L\"t = \" * string(round(example_t[index],digits = 1)))\n",
    "end\n",
    "\n",
    "gif(anim, \"DNS_flow.gif\", fps = 30)"
   ]
  },
  {
   "cell_type": "code",
   "execution_count": 36,
   "id": "4ea8a32e",
   "metadata": {},
   "outputs": [
    {
     "ename": "LoadError",
     "evalue": "UndefVarError: `coarse_mesh` not defined",
     "output_type": "error",
     "traceback": [
      "UndefVarError: `coarse_mesh` not defined",
      "",
      "Stacktrace:",
      " [1] top-level scope",
      "   @ In[36]:1"
     ]
    }
   ],
   "source": [
    "lit = coarse_mesh.ip(pred_sim,pred_sim,combine_channels = false)[1,1,:,:]"
   ]
  },
  {
   "cell_type": "code",
   "execution_count": null,
   "id": "4595c5ab",
   "metadata": {},
   "outputs": [],
   "source": []
  },
  {
   "cell_type": "code",
   "execution_count": null,
   "id": "2b92d871",
   "metadata": {},
   "outputs": [],
   "source": []
  },
  {
   "cell_type": "code",
   "execution_count": null,
   "id": "f55e0fed",
   "metadata": {},
   "outputs": [],
   "source": []
  },
  {
   "cell_type": "code",
   "execution_count": null,
   "id": "8c7b1030",
   "metadata": {},
   "outputs": [],
   "source": []
  },
  {
   "cell_type": "code",
   "execution_count": null,
   "id": "babbaf96",
   "metadata": {},
   "outputs": [],
   "source": []
  },
  {
   "cell_type": "code",
   "execution_count": null,
   "id": "24052fe1",
   "metadata": {},
   "outputs": [],
   "source": []
  },
  {
   "cell_type": "code",
   "execution_count": null,
   "id": "3c4dcb43",
   "metadata": {},
   "outputs": [],
   "source": []
  },
  {
   "cell_type": "code",
   "execution_count": null,
   "id": "8e64df72",
   "metadata": {},
   "outputs": [],
   "source": []
  },
  {
   "cell_type": "code",
   "execution_count": null,
   "id": "dc8da0c7",
   "metadata": {},
   "outputs": [],
   "source": []
  },
  {
   "cell_type": "code",
   "execution_count": null,
   "id": "9c530444",
   "metadata": {},
   "outputs": [],
   "source": []
  },
  {
   "cell_type": "code",
   "execution_count": null,
   "id": "1d687559",
   "metadata": {},
   "outputs": [],
   "source": []
  },
  {
   "cell_type": "code",
   "execution_count": null,
   "id": "06051ea1",
   "metadata": {},
   "outputs": [],
   "source": []
  }
 ],
 "metadata": {
  "kernelspec": {
   "display_name": "Julia 1.9.3",
   "language": "julia",
   "name": "julia-1.9"
  },
  "language_info": {
   "file_extension": ".jl",
   "mimetype": "application/julia",
   "name": "julia",
   "version": "1.9.3"
  }
 },
 "nbformat": 4,
 "nbformat_minor": 5
}
